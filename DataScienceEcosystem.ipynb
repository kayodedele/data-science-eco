{
 "cells": [
  {
   "cell_type": "markdown",
   "id": "f6370ddd-cf78-4d39-8b2b-73960af9c0b9",
   "metadata": {},
   "source": [
    "Data Science Tools and Ecosystem"
   ]
  },
  {
   "cell_type": "markdown",
   "id": "8e942f73-bd0c-4111-9fbd-fd1bf2cded83",
   "metadata": {},
   "source": [
    "In this notebook, Data Science Tools and Ecosystem are summarized."
   ]
  },
  {
   "cell_type": "markdown",
   "id": "3a28a2a8-06cc-4294-bae2-d21b5c100ef0",
   "metadata": {},
   "source": [
    "Some of the popular languages that Data Scientists use are:\n",
    "1. Python\n",
    "2. R\n",
    "3. SQL\n",
    "4. Julia"
   ]
  },
  {
   "cell_type": "markdown",
   "id": "bf2b163c-6abd-4c77-9cda-74d53de228ef",
   "metadata": {},
   "source": [
    "Some of the commonly used libraries used by Data Scientists include:\n",
    "1. Pandas\n",
    "2. Numpy\n",
    "3. Matplotlib\n",
    "4. Seaborn"
   ]
  },
  {
   "cell_type": "markdown",
   "id": "0e50032d-e917-431a-8ff8-8fad2f7b6ac6",
   "metadata": {},
   "source": [
    "Data Science Tools\n",
    "Jupyterlab\n",
    "JupyterLite\n",
    "VS Code\n",
    "Google Colaboratory"
   ]
  },
  {
   "cell_type": "markdown",
   "id": "0e0bdf73-91bb-47cf-9fdb-b905ec570246",
   "metadata": {},
   "source": [
    "Below are a few examples of evaluating arithmetic expressions in Python"
   ]
  },
  {
   "cell_type": "markdown",
   "id": "18b5f3de-28b7-4c3e-9575-bee9993ca7ca",
   "metadata": {},
   "source": [
    "This is a simple arithmetic expression to multiply then add integers"
   ]
  },
  {
   "cell_type": "code",
   "execution_count": 2,
   "id": "a119a41a-b96d-4579-84fd-55839326cc83",
   "metadata": {
    "tags": []
   },
   "outputs": [
    {
     "data": {
      "text/plain": [
       "17"
      ]
     },
     "execution_count": 2,
     "metadata": {},
     "output_type": "execute_result"
    }
   ],
   "source": [
    "(3*4)+5"
   ]
  },
  {
   "cell_type": "markdown",
   "id": "defe1467-fe87-48ed-bb75-7a146fd97945",
   "metadata": {},
   "source": [
    "This will convert 200 minutes to hours by dividing by 60"
   ]
  },
  {
   "cell_type": "code",
   "execution_count": 3,
   "id": "70f144cb-5edb-470e-8ef4-a0640740a1b3",
   "metadata": {
    "tags": []
   },
   "outputs": [
    {
     "data": {
      "text/plain": [
       "3.3333333333333335"
      ]
     },
     "execution_count": 3,
     "metadata": {},
     "output_type": "execute_result"
    }
   ],
   "source": [
    "200/60"
   ]
  },
  {
   "cell_type": "markdown",
   "id": "a21907ac-dab3-4908-ad14-8a3f14cddd81",
   "metadata": {
    "tags": []
   },
   "source": [
    "**Objectives:\n",
    "List of popular languages for Data Science\n",
    "List of commonly used Libraries in Data Science\n",
    "List of Data Science Tools"
   ]
  },
  {
   "cell_type": "markdown",
   "id": "a4ec0b4c-9b9c-4bda-938f-7df462e1cdf1",
   "metadata": {},
   "source": [
    "Author\n",
    "Oladele Kayode"
   ]
  }
 ],
 "metadata": {
  "kernelspec": {
   "display_name": "Python 3 (ipykernel)",
   "language": "python",
   "name": "python3"
  },
  "language_info": {
   "codemirror_mode": {
    "name": "ipython",
    "version": 3
   },
   "file_extension": ".py",
   "mimetype": "text/x-python",
   "name": "python",
   "nbconvert_exporter": "python",
   "pygments_lexer": "ipython3",
   "version": "3.11.5"
  }
 },
 "nbformat": 4,
 "nbformat_minor": 5
}
